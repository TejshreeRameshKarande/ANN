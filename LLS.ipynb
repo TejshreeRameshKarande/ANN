{
  "nbformat": 4,
  "nbformat_minor": 0,
  "metadata": {
    "colab": {
      "provenance": [],
      "authorship_tag": "ABX9TyMYJKUsQlm78z+LsFw308Tn",
      "include_colab_link": true
    },
    "kernelspec": {
      "name": "python3",
      "display_name": "Python 3"
    },
    "language_info": {
      "name": "python"
    }
  },
  "cells": [
    {
      "cell_type": "markdown",
      "metadata": {
        "id": "view-in-github",
        "colab_type": "text"
      },
      "source": [
        "<a href=\"https://colab.research.google.com/github/TejshreeRameshKarande/ANN/blob/main/LLS.ipynb\" target=\"_parent\"><img src=\"https://colab.research.google.com/assets/colab-badge.svg\" alt=\"Open In Colab\"/></a>"
      ]
    },
    {
      "cell_type": "code",
      "execution_count": 1,
      "metadata": {
        "colab": {
          "base_uri": "https://localhost:8080/"
        },
        "id": "MCaPfz1x2YOF",
        "outputId": "461731da-4c51-42b8-c844-1f441303cfb8"
      },
      "outputs": [
        {
          "output_type": "stream",
          "name": "stdout",
          "text": [
            "Weights (including bias):\n",
            " [[ 2.00000000e+04]\n",
            " [ 1.56666667e+04]\n",
            " [-1.50000000e+01]\n",
            " [-1.83333333e+04]]\n",
            "\n",
            "Predicted Prices:\n",
            " [[24166.66666666]\n",
            " [31666.66666666]\n",
            " [39166.66666666]\n",
            " [31999.99999999]\n",
            " [49999.99999999]]\n"
          ]
        }
      ],
      "source": [
        "import numpy as np\n",
        "\n",
        "# Step 1: Dataset\n",
        "# Features: [rooms, area, location_index]\n",
        "X = np.array([\n",
        "    [2, 1200, 0.5],\n",
        "    [3, 1500, 0.7],\n",
        "    [4, 1800, 0.9],\n",
        "    [3, 1600, 0.6],\n",
        "    [5, 2000, 1.0]\n",
        "])\n",
        "\n",
        "# Target (house price)\n",
        "Y = np.array([[25000], [30000], [40000], [32000], [50000]])\n",
        "\n",
        "# Step 2: Add bias (1) to each row of X\n",
        "ones = np.ones((X.shape[0], 1))        # column of 1s\n",
        "X_b = np.hstack((ones, X))             # shape becomes (5, 4)\n",
        "\n",
        "# Step 3: Calculate weights using LLS formula\n",
        "# w = (X^T * X)^-1 * X^T * Y\n",
        "X_T = X_b.T                            # Transpose\n",
        "w = np.linalg.inv(X_T @ X_b) @ X_T @ Y\n",
        "\n",
        "# Step 4: Prediction using weights\n",
        "Y_pred = X_b @ w\n",
        "\n",
        "# Step 5: Print results\n",
        "print(\"Weights (including bias):\\n\", w)\n",
        "print(\"\\nPredicted Prices:\\n\", Y_pred)"
      ]
    },
    {
      "cell_type": "code",
      "source": [
        "from sklearn.linear_model import Ridge, Lasso\n",
        "from sklearn.metrics import mean_squared_error\n",
        "\n",
        "# Normalize X (so that all features are on similar scale)\n",
        "X_mean = np.mean(X, axis=0)\n",
        "X_std = np.std(X, axis=0)\n",
        "X_norm = (X - X_mean) / X_std\n",
        "\n",
        "# Ridge Regression\n",
        "ridge = Ridge(alpha=1.0)\n",
        "ridge.fit(X_norm, Y)\n",
        "Y_ridge_pred = ridge.predict(X_norm)\n",
        "\n",
        "# Lasso Regression\n",
        "lasso = Lasso(alpha=0.1)\n",
        "lasso.fit(X_norm, Y)\n",
        "Y_lasso_pred = lasso.predict(X_norm)\n",
        "\n",
        "# MSE for both\n",
        "print(\"Ridge Predicted Prices:\\n\", Y_ridge_pred)\n",
        "print(\"\\nMSE (Ridge):\", mean_squared_error(Y, Y_ridge_pred))\n",
        "print(\"\\n\")\n",
        "\n",
        "\n",
        "print(\"Lasso Predicted Prices:\\n\", Y_lasso_pred)\n",
        "print(\"\\nMSE (Lasso):\", mean_squared_error(Y, Y_lasso_pred))\n"
      ],
      "metadata": {
        "colab": {
          "base_uri": "https://localhost:8080/"
        },
        "id": "q8_W1hN02jY3",
        "outputId": "9cab92a1-deb3-414a-9711-0fe7dd829710"
      },
      "execution_count": 2,
      "outputs": [
        {
          "output_type": "stream",
          "name": "stdout",
          "text": [
            "Ridge Predicted Prices:\n",
            " [23970.89854524 32482.84741097 40994.79627671 32223.94014917\n",
            " 47327.51761791]\n",
            "\n",
            "MSE (Ridge): 3081102.395104151\n",
            "\n",
            "\n",
            "Lasso Predicted Prices:\n",
            " [24165.0969703  31667.36828728 39169.63960427 32000.46083013\n",
            " 49997.43430802]\n",
            "\n",
            "MSE (Lasso): 833337.0512765141\n"
          ]
        }
      ]
    },
    {
      "cell_type": "code",
      "source": [
        "# Initialize random weights and bias\n",
        "w = np.random.rand(3, 1)\n",
        "b = np.random.rand(1)\n",
        "lr = 0.01\n",
        "epochs = 1000\n",
        "\n",
        "# Gradient Descent\n",
        "for i in range(epochs):\n",
        "    y_pred = np.dot(X_norm, w) + b\n",
        "    error = y_pred - Y\n",
        "\n",
        "    dw = np.dot(X_norm.T, error) / len(Y)\n",
        "    db = np.sum(error) / len(Y)\n",
        "\n",
        "    w -= lr * dw\n",
        "    b -= lr * db\n",
        "\n",
        "\n",
        "Y_gd_pred = np.dot(X_norm, w) + b\n",
        "\n",
        "print(\"\\nGradient Descent Predicted Prices:\\n\", Y_gd_pred)\n",
        "print(\"MSE (Gradient Descent):\", mean_squared_error(Y, Y_gd_pred))"
      ],
      "metadata": {
        "colab": {
          "base_uri": "https://localhost:8080/"
        },
        "id": "W0FAnT2K2mt3",
        "outputId": "3a33585e-7046-44e8-9597-d52a92acefbf"
      },
      "execution_count": 3,
      "outputs": [
        {
          "output_type": "stream",
          "name": "stdout",
          "text": [
            "\n",
            "Gradient Descent Predicted Prices:\n",
            " [[23185.69862997]\n",
            " [32220.93435778]\n",
            " [41256.17008559]\n",
            " [32118.27746007]\n",
            " [48211.2783055 ]]\n",
            "MSE (Gradient Descent): 2603143.4049496413\n"
          ]
        }
      ]
    }
  ]
}