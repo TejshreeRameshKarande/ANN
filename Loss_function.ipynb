{
  "nbformat": 4,
  "nbformat_minor": 0,
  "metadata": {
    "colab": {
      "provenance": [],
      "authorship_tag": "ABX9TyNemsEJHbZCWcBE5N/OcgG1",
      "include_colab_link": true
    },
    "kernelspec": {
      "name": "python3",
      "display_name": "Python 3"
    },
    "language_info": {
      "name": "python"
    }
  },
  "cells": [
    {
      "cell_type": "markdown",
      "metadata": {
        "id": "view-in-github",
        "colab_type": "text"
      },
      "source": [
        "<a href=\"https://colab.research.google.com/github/TejshreeRameshKarande/ANN/blob/main/Loss_function.ipynb\" target=\"_parent\"><img src=\"https://colab.research.google.com/assets/colab-badge.svg\" alt=\"Open In Colab\"/></a>"
      ]
    },
    {
      "cell_type": "code",
      "execution_count": 1,
      "metadata": {
        "colab": {
          "base_uri": "https://localhost:8080/"
        },
        "id": "JW6g0PAn_ImN",
        "outputId": "db080d0e-e241-4518-885e-9ce22a96f0e4"
      },
      "outputs": [
        {
          "output_type": "stream",
          "name": "stdout",
          "text": [
            "Epoch 0: Loss = 1329706353.4044\n",
            "Epoch 100: Loss = 24929654.5417\n",
            "Epoch 200: Loss = 3197915.6226\n",
            "Epoch 300: Loss = 2743389.6028\n",
            "Epoch 400: Loss = 2667902.7918\n",
            "Epoch 500: Loss = 2603188.2032\n",
            "Epoch 600: Loss = 2542198.6168\n",
            "Epoch 700: Loss = 2484355.6559\n",
            "Epoch 800: Loss = 2429285.1302\n",
            "Epoch 900: Loss = 2376687.1371\n",
            "\n",
            "Predicted Price (approx):\n",
            "32136.43971773571\n"
          ]
        }
      ],
      "source": [
        "\n",
        "import numpy as np\n",
        "\n",
        "# Sample dataset: [rooms, area (sqft), location index]\n",
        "X = np.array([\n",
        "    [2, 1200, 0.5],\n",
        "    [3, 1500, 0.7],\n",
        "    [4, 1800, 0.9],\n",
        "    [3, 1600, 0.6],\n",
        "    [5, 2000, 1.0]\n",
        "])\n",
        "\n",
        "# Corresponding house prices (in thousands)\n",
        "Y = np.array([[25000], [30000], [40000], [32000], [50000]])\n",
        "\n",
        "# Normalize features\n",
        "X_mean = np.mean(X, axis=0)\n",
        "X_std = np.std(X, axis=0)\n",
        "X = (X - X_mean) / X_std\n",
        "\n",
        "# Normalize Y if using cross-entropy\n",
        "loss_type = 'mse'\n",
        "\n",
        "if loss_type == 'cross_entropy':\n",
        "    Y_min, Y_max = Y.min(), Y.max()\n",
        "    Y_scaled = (Y - Y_min) / (Y_max - Y_min)\n",
        "else:\n",
        "    Y_scaled = Y.copy()\n",
        "\n",
        "# Weight and bias initialization\n",
        "w = np.random.rand(3, 1)\n",
        "b = np.random.rand(1)\n",
        "lr = 0.01\n",
        "epochs = 1000\n",
        "\n",
        "# Activation functions\n",
        "def sigmoid(x):\n",
        "    return 1 / (1 + np.exp(-x))\n",
        "\n",
        "def sigmoid_derivative(x):\n",
        "    return x * (1 - x)\n",
        "\n",
        "# Loss functions\n",
        "def mse_loss(y_true, y_pred):\n",
        "    return np.mean((y_true - y_pred) ** 2)\n",
        "\n",
        "def cross_entropy_loss(y_true, y_pred):\n",
        "    eps = 1e-15\n",
        "    y_pred = np.clip(y_pred, eps, 1 - eps)\n",
        "    return -np.mean(y_true * np.log(y_pred) + (1 - y_true) * np.log(1 - y_pred))\n",
        "\n",
        "# Training loop\n",
        "for epoch in range(epochs):\n",
        "    z = np.dot(X, w) + b\n",
        "    # y_pred = sigmoid(z)\n",
        "\n",
        "\n",
        "    if loss_type == 'mse':\n",
        "        y_pred = z;\n",
        "        loss = mse_loss(Y_scaled, y_pred)\n",
        "        d_loss = 2 * (y_pred - Y_scaled) / len(Y)\n",
        "    elif loss_type == 'cross_entropy':\n",
        "        loss = cross_entropy_loss(Y_scaled, y_pred)\n",
        "        d_loss = (y_pred - Y_scaled) * sigmoid_derivative(y_pred)\n",
        "\n",
        "    # Gradients\n",
        "    dw = np.dot(X.T, d_loss)\n",
        "    db = np.sum(d_loss, axis=0)\n",
        "\n",
        "    # Update weights\n",
        "    w -= lr * dw\n",
        "    b -= lr * db\n",
        "\n",
        "    if epoch % 100 == 0:\n",
        "        print(f\"Epoch {epoch}: Loss = {loss:.4f}\")\n",
        "\n",
        "# Prediction\n",
        "new_input = np.array([[3, 1500, 0.7]])\n",
        "new_input = (new_input - X_mean) / X_std\n",
        "prediction = np.dot(new_input, w) + b\n",
        "\n",
        "\n",
        "print(\"\\nPredicted Price (approx):\")\n",
        "print(prediction[0][0])"
      ]
    }
  ]
}