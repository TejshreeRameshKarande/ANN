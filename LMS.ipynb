{
  "nbformat": 4,
  "nbformat_minor": 0,
  "metadata": {
    "colab": {
      "provenance": [],
      "authorship_tag": "ABX9TyOZ46MJdjPpCJDeBNnL5zeO",
      "include_colab_link": true
    },
    "kernelspec": {
      "name": "python3",
      "display_name": "Python 3"
    },
    "language_info": {
      "name": "python"
    }
  },
  "cells": [
    {
      "cell_type": "markdown",
      "metadata": {
        "id": "view-in-github",
        "colab_type": "text"
      },
      "source": [
        "<a href=\"https://colab.research.google.com/github/TejshreeRameshKarande/ANN/blob/main/LMS.ipynb\" target=\"_parent\"><img src=\"https://colab.research.google.com/assets/colab-badge.svg\" alt=\"Open In Colab\"/></a>"
      ]
    },
    {
      "cell_type": "code",
      "execution_count": 1,
      "metadata": {
        "colab": {
          "base_uri": "https://localhost:8080/"
        },
        "id": "xwufXE7ZBCmL",
        "outputId": "b0c28840-ebc6-4986-94d8-eabbc4e95e9c"
      },
      "outputs": [
        {
          "output_type": "stream",
          "name": "stdout",
          "text": [
            "Epoch 0, MSE: 37.34317745478622\n",
            "Epoch 10, MSE: 13.584044647014547\n",
            "Epoch 20, MSE: 4.941338765686254\n",
            "Epoch 30, MSE: 1.797454280037202\n",
            "Epoch 40, MSE: 0.6538359090388675\n",
            "Epoch 50, MSE: 0.2378358812209996\n",
            "Epoch 60, MSE: 0.08651345781137176\n",
            "Epoch 70, MSE: 0.031469341268363114\n",
            "Epoch 80, MSE: 0.01144693767774097\n",
            "Epoch 90, MSE: 0.0041637885543228375\n",
            "Epoch 100, MSE: 0.0015145572572248778\n",
            "Epoch 110, MSE: 0.0005509096810115523\n",
            "Epoch 120, MSE: 0.00020038849742108736\n",
            "Epoch 130, MSE: 7.288914370764229e-05\n",
            "Epoch 140, MSE: 2.6512493838038767e-05\n",
            "Epoch 150, MSE: 9.643528849393227e-06\n",
            "\n",
            "Final Weights:\n",
            " [[5.99836743]\n",
            " [2.82732454]]\n",
            "\n",
            "Predictions:\n",
            "[[ 2.]\n",
            " [ 4.]\n",
            " [ 6.]\n",
            " [ 8.]\n",
            " [10.]]\n"
          ]
        }
      ],
      "source": [
        "#implement lms\n",
        "import numpy as np\n",
        "import pandas as pd\n",
        "import matplotlib.pyplot as plt\n",
        "\n",
        "X = np.array([[1],[2],[3],[4],[5]])\n",
        "Y = np.array([[2],[4],[6],[8],[10]])\n",
        "\n",
        "# Normalize features\n",
        "X = (X - np.mean(X)) / np.std(X)\n",
        "\n",
        "# Add bias term to X\n",
        "X = np.hstack((np.ones((X.shape[0], 1)), X))  # Shape: (n_samples, 2)\n",
        "\n",
        "w = np.random.randn(2, 1)  # Initialize weights randomly\n",
        "lr = 0.01\n",
        "epochs = 160\n",
        "\n",
        "for epoch in range(epochs):\n",
        "    for i in range(X.shape[0]):\n",
        "        xi = X[i].reshape(1, -1)  # Shape: (1, 2)\n",
        "        yi = Y[i].reshape(1, -1)  # Shape: (1, 1)\n",
        "\n",
        "        y_pred = np.dot(xi, w)  # Shape: (1, 1)\n",
        "\n",
        "        error = yi - y_pred  # Shape: (1, 1)\n",
        "\n",
        "        # gradient = -2 * xi.T.dot(error)  # Shape: (2, 1)\n",
        "\n",
        "        # w -= lr * gradient\n",
        "\n",
        "        w = w + lr * xi.T * error\n",
        "\n",
        "    if epoch % 10 == 0:\n",
        "        y_all_pred = np.dot(X, w)\n",
        "        mse = np.mean((Y - y_all_pred) ** 2)\n",
        "        print(f\"Epoch {epoch}, MSE: {mse}\")\n",
        "\n",
        "print(\"\\nFinal Weights:\\n\", w)\n",
        "print(\"\\nPredictions:\")\n",
        "predictions = np.dot(X, w)\n",
        "print(predictions.round(2))"
      ]
    }
  ]
}