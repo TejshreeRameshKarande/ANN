{
  "nbformat": 4,
  "nbformat_minor": 0,
  "metadata": {
    "colab": {
      "provenance": [],
      "authorship_tag": "ABX9TyNHYsmjW9k7A1ask7R0P1aN",
      "include_colab_link": true
    },
    "kernelspec": {
      "name": "python3",
      "display_name": "Python 3"
    },
    "language_info": {
      "name": "python"
    }
  },
  "cells": [
    {
      "cell_type": "markdown",
      "metadata": {
        "id": "view-in-github",
        "colab_type": "text"
      },
      "source": [
        "<a href=\"https://colab.research.google.com/github/TejshreeRameshKarande/ANN/blob/main/perceptron.ipynb\" target=\"_parent\"><img src=\"https://colab.research.google.com/assets/colab-badge.svg\" alt=\"Open In Colab\"/></a>"
      ]
    },
    {
      "cell_type": "code",
      "execution_count": 2,
      "metadata": {
        "colab": {
          "base_uri": "https://localhost:8080/"
        },
        "id": "10iTIRGD9o4y",
        "outputId": "c53bbfdd-ac33-450b-8b4f-ca1378395933"
      },
      "outputs": [
        {
          "output_type": "stream",
          "name": "stdout",
          "text": [
            "Predictions: [1 1]\n"
          ]
        }
      ],
      "source": [
        "import numpy as np\n",
        "\n",
        "# Step function as activation function\n",
        "def step_function(x):\n",
        "    return 1 if x >= 0 else 0\n",
        "\n",
        "# Perceptron model\n",
        "class Perceptron:\n",
        "    def __init__(self, learning_rate=0.01, epochs=100):\n",
        "        self.learning_rate = learning_rate\n",
        "        self.epochs = epochs\n",
        "        self.weights = None\n",
        "        self.bias = None\n",
        "\n",
        "    def fit(self, X, y):\n",
        "        num_features = X.shape[1]\n",
        "        self.weights = np.random.rand(num_features)\n",
        "        self.bias = np.random.rand()\n",
        "\n",
        "        for _ in range(self.epochs):\n",
        "            for i in range(len(X)):\n",
        "                y_pred = step_function(np.dot(X[i], self.weights) + self.bias)\n",
        "                self.weights += self.learning_rate * (y[i] - y_pred) * X[i]\n",
        "                self.bias += self.learning_rate * (y[i] - y_pred)\n",
        "\n",
        "    def predict(self, X):\n",
        "        return np.array([step_function(np.dot(x, self.weights) + self.bias) for x in X])\n",
        "\n",
        "# Sample dataset: [capital_letters, contains_free (1 or 0), email_length]\n",
        "X = np.array([\n",
        "    [10, 1, 100],\n",
        "    [2, 0, 50],\n",
        "    [20, 1, 200],\n",
        "    [1, 0, 30],\n",
        "    [15, 1, 150],\n",
        "    [5, 0, 80]\n",
        "])\n",
        "y = np.array([1, 0, 1, 0, 1, 0])  # 1: Spam, 0: Not Spam\n",
        "\n",
        "# Train perceptron\n",
        "perceptron = Perceptron(learning_rate=0.1, epochs=10)\n",
        "perceptron.fit(X, y)\n",
        "\n",
        "# Test new email samples\n",
        "X_test = np.array([\n",
        "    [8, 1, 120],  # Likely spam\n",
        "    [3, 0, 60]    # Likely not spam\n",
        "])\n",
        "\n",
        "predictions = perceptron.predict(X_test)\n",
        "print(\"Predictions:\", predictions)"
      ]
    }
  ]
}